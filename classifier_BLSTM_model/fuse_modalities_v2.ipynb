{
 "cells": [
  {
   "cell_type": "code",
   "execution_count": 3,
   "metadata": {},
   "outputs": [],
   "source": [
    "import numpy as np\n",
    "import pandas as pd\n",
    "import os\n",
    "import pickle\n",
    "from local.scoring import score"
   ]
  },
  {
   "cell_type": "code",
   "execution_count": 4,
   "metadata": {},
   "outputs": [
    {
     "name": "stdout",
     "output_type": "stream",
     "text": [
      "['dDvHec65MWh2REqq5mABZJvmlXI3', '8XF2UFLn3Wd6dHHMdOlcGbQiMqb2', 'sZXioPNq72VC9DKY05wQtL6MB452']\n",
      "240\n"
     ]
    }
   ],
   "source": [
    "rootdir='results_tuned/tune_train_config_lr1e-4_wd1e-5/'\n",
    "test_scorefil=\"val_scores.txt\"\n",
    "audio_categories = ['breathing-deep', \n",
    "                    'breathing-shallow', \n",
    "                    'cough-heavy', \n",
    "                    'cough-shallow', \n",
    "                    'vowel-a', \n",
    "                    'vowel-e', \n",
    "                    'vowel-o', \n",
    "                    'counting-normal', \n",
    "                    'counting-fast',\n",
    "                   'symptoms'\n",
    "                   ]\n",
    "\n",
    "for idx, audio_category in enumerate(audio_categories):\n",
    "    #print(audio_category)\n",
    "    #scores=open(os.path.join(rootdir,audiocategory,'train_scores.txt')).readlines()\n",
    "    df=pd.read_csv(os.path.join(rootdir, audio_category, test_scorefil), sep=\" \", header=None)\n",
    "    keylist=list(df[0])\n",
    "    #print(len(keylist))\n",
    "    if idx==0:\n",
    "        temp=list(set(keylist))\n",
    "    else:\n",
    "        temp=list(set(temp) & set(keylist))\n",
    "    #print(len(temp))\n",
    "    \n",
    "common_ids=temp  \n",
    "print(common_ids[:3])\n",
    "print(len(common_ids))"
   ]
  },
  {
   "cell_type": "code",
   "execution_count": 5,
   "metadata": {},
   "outputs": [],
   "source": [
    "def scoring_v2(reference_labels, sys_scores,specificities_chosen=[0.5,0.95]):\n",
    "\n",
    "    thresholds=np.arange(0,1,0.0001)\n",
    "\n",
    "    AUC, TPR, TNR = score(reference_labels,sys_scores,thresholds=thresholds)\n",
    "\n",
    "    specificities=[]\n",
    "    sensitivities=[]\n",
    "\n",
    "    decision_thresholds = []\n",
    "    for specificity_threshold in specificities_chosen:\n",
    "        ind = np.where(TNR>specificity_threshold)[0]\n",
    "        sensitivities.append( TPR[ind[0]])\n",
    "        specificities.append( TNR[ind[0]])\n",
    "        decision_thresholds.append( thresholds[ind[0]])\n",
    "\n",
    "    # pack the performance metrics in a dictionary to save & return\n",
    "    # Each performance metric (except AUC) is a array for different threshold values\n",
    "    # Specificity at 90% sensitivity\n",
    "    scores={'TPR':TPR,\n",
    "            'FPR':1-TNR,\n",
    "            'AUC':AUC,\n",
    "            'sensitivity':sensitivities,\n",
    "            'specificity':specificities,\n",
    "            'operatingPts':decision_thresholds,\n",
    "\t\t\t'thresholds':thresholds}\n",
    "\n",
    "    return AUC,sensitivities[0],specificities[0],sensitivities[1],specificities[1], decision_thresholds[1]"
   ]
  },
  {
   "cell_type": "code",
   "execution_count": 5,
   "metadata": {},
   "outputs": [],
   "source": [
    "# test_ids=[]\n",
    "\n",
    "# temp_lines=open(os.path.join(rootdir,'breathing-deep',test_scores),'r').readlines()\n",
    "\n",
    "# for line in temp_lines:\n",
    "#     key, val=line.strip().split(\" \")\n",
    "#     if key in common_ids:\n",
    "#         test_ids.append(key)\n",
    "# print(test_ids[:3])\n",
    "# print(\"len of test ids:\", len(test_ids))"
   ]
  },
  {
   "cell_type": "code",
   "execution_count": 6,
   "metadata": {},
   "outputs": [
    {
     "name": "stdout",
     "output_type": "stream",
     "text": [
      "[0.0, 1.0, 0.0, 0.0, 0.0, 0.0, 0.0, 1.0, 1.0, 0.0]\n",
      "240\n"
     ]
    }
   ],
   "source": [
    "test_lines=open('data/val','r').readlines()\n",
    "#test_lines.sort()\n",
    "test_labels_dict={}\n",
    "test_labels=[]\n",
    "for line in test_lines:\n",
    "    key, val = line.strip().split(\" \")\n",
    "    if val=='p':\n",
    "        val=1\n",
    "    elif val=='n':\n",
    "        val=0\n",
    "    else:\n",
    "        raise ValueError(\" Not a valid label.\")\n",
    "    if key in common_ids:\n",
    "        test_labels_dict[key]=val\n",
    "test_labels=[float(test_labels_dict[id]) for id in common_ids]\n",
    "print(test_labels[-10:])\n",
    "print(len(test_labels))"
   ]
  },
  {
   "cell_type": "code",
   "execution_count": 7,
   "metadata": {},
   "outputs": [
    {
     "name": "stdout",
     "output_type": "stream",
     "text": [
      "breathing-deep--AUC: 0.7706, Sens: 0.2787, Spec: 0.9553\n",
      "breathing-shallow--AUC: 0.7450, Sens: 0.2459, Spec: 0.9553\n",
      "cough-heavy--AUC: 0.7161, Sens: 0.3607, Spec: 0.9553\n",
      "cough-shallow--AUC: 0.7223, Sens: 0.2951, Spec: 0.9553\n",
      "vowel-a--AUC: 0.7083, Sens: 0.2951, Spec: 0.9553\n",
      "vowel-e--AUC: 0.7330, Sens: 0.2459, Spec: 0.9553\n",
      "vowel-o--AUC: 0.7429, Sens: 0.2623, Spec: 0.9553\n",
      "counting-normal--AUC: 0.7649, Sens: 0.2459, Spec: 0.9553\n",
      "counting-fast--AUC: 0.8162, Sens: 0.4262, Spec: 0.9553\n",
      "symptoms--AUC: 0.8598, Sens: 0.7213, Spec: 0.9553\n",
      "(240, 10)\n",
      "[[0.32733469 0.31407    0.03357014 ... 0.2001936  0.32882324 0.79800222]\n",
      " [0.19132561 0.79621905 0.04571254 ... 0.21747175 0.06658892 0.19674129]\n",
      " [0.06252027 0.05014184 0.02619184 ... 0.01185008 0.11298728 0.79800222]\n",
      " ...\n",
      " [0.51837173 0.31730556 0.93216693 ... 0.51731206 0.79172314 0.91943734]\n",
      " [0.06389389 0.00206153 0.19133373 ... 0.19066882 0.03567969 0.98797664]\n",
      " [0.06012309 0.21656186 0.22204526 ... 0.62280941 0.45860873 0.19674129]]\n"
     ]
    }
   ],
   "source": [
    "for idx, audio_category in enumerate(audio_categories):\n",
    "    dict={}\n",
    "    test_scores=[]\n",
    "    test_score_lines=open(os.path.join(rootdir,audio_category,test_scorefil),'r').readlines()\n",
    "    #test_score_lines.sort()\n",
    "    \n",
    "    for line in test_score_lines:\n",
    "        key, val=line.strip().split(\" \")\n",
    "        if key in common_ids:\n",
    "            dict[key]=val\n",
    "    assert sorted(list(dict.keys()))==sorted(common_ids)\n",
    "        #test_scores.append(float(val))\n",
    "\n",
    "    test_scores=[float(dict[key]) for key in common_ids]\n",
    "   \n",
    "    test_scores=np.array(test_scores)\n",
    "    \n",
    "    test_scores=test_scores.reshape(-1,1)\n",
    "    auc, _,_,sens,spec,_=scoring_v2(list(test_labels), list(test_scores))\n",
    "    print(\"{}--AUC: {:.4f}, Sens: {:.4f}, Spec: {:.4f}\".format(audio_category, auc, sens, spec))\n",
    "    #print(scores)\n",
    "    #print(scores)\n",
    "    \n",
    "    if idx==0:\n",
    "        test_score_arr=test_scores\n",
    "        #print(score_arr)\n",
    "    else:\n",
    "        test_score_arr=np.concatenate((test_score_arr, test_scores), axis=1)\n",
    "    #print(score_arr)\n",
    "    #print(len(scores))\n",
    "    #print(test_score_arr.shape)\n",
    "    #break\n",
    "print(test_score_arr.shape)\n",
    "print(test_score_arr)\n",
    "\n"
   ]
  },
  {
   "cell_type": "code",
   "execution_count": null,
   "metadata": {},
   "outputs": [],
   "source": []
  },
  {
   "cell_type": "code",
   "execution_count": 8,
   "metadata": {},
   "outputs": [
    {
     "name": "stdout",
     "output_type": "stream",
     "text": [
      "fusion--AUC: 0.8704, Sens: 0.4754, Spec: 0.9553 at thres:0.4267\n"
     ]
    }
   ],
   "source": [
    "# Baseline score\n",
    "from local.scoring import score\n",
    "baseline_test_score=np.mean(test_score_arr, axis=1)\n",
    "auc,_,_,sens,spec,thres=scoring_v2(list(test_labels), list(baseline_test_score))\n",
    "print(\"fusion--AUC: {:.4f}, Sens: {:.4f}, Spec: {:.4f} at thres:{:.4f}\".format(auc, sens, spec,thres))\n",
    "\n"
   ]
  },
  {
   "cell_type": "code",
   "execution_count": 12,
   "metadata": {},
   "outputs": [
    {
     "name": "stdout",
     "output_type": "stream",
     "text": [
      "max weight: [[0.1108685 ]\n",
      " [0.01770559]\n",
      " [0.13726011]\n",
      " [0.00308136]\n",
      " [0.03825548]\n",
      " [0.00544842]\n",
      " [0.02939652]\n",
      " [0.02556089]\n",
      " [0.15294135]\n",
      " [0.47948178]]\n"
     ]
    },
    {
     "data": {
      "image/png": "[encoded data removed]",
      "text/plain": [
       "<Figure size 432x288 with 1 Axes>"
      ]
     },
     "metadata": {
      "needs_background": "light"
     },
     "output_type": "display_data"
    },
    {
     "name": "stdout",
     "output_type": "stream",
     "text": [
      "\n",
      "\n",
      "max weight: [[0.01779913]\n",
      " [0.19542441]\n",
      " [0.04799397]\n",
      " [0.04135268]\n",
      " [0.0538871 ]\n",
      " [0.00055528]\n",
      " [0.06843693]\n",
      " [0.05313932]\n",
      " [0.11051242]\n",
      " [0.41089875]]\n"
     ]
    },
    {
     "data": {
      "image/png": "[encoded data removed]",
      "text/plain": [
       "<Figure size 432x288 with 1 Axes>"
      ]
     },
     "metadata": {
      "needs_background": "light"
     },
     "output_type": "display_data"
    },
    {
     "name": "stdout",
     "output_type": "stream",
     "text": [
      "\n",
      "\n",
      "max weight: [[0.00462131]\n",
      " [0.00950714]\n",
      " [0.13710733]\n",
      " [0.04757999]\n",
      " [0.13080908]\n",
      " [0.0306498 ]\n",
      " [0.01287369]\n",
      " [0.00129713]\n",
      " [0.22183594]\n",
      " [0.40371859]]\n"
     ]
    },
    {
     "data": {
      "image/png": "[encoded data removed]",
      "text/plain": [
       "<Figure size 432x288 with 1 Axes>"
      ]
     },
     "metadata": {
      "needs_background": "light"
     },
     "output_type": "display_data"
    },
    {
     "name": "stdout",
     "output_type": "stream",
     "text": [
      "\n",
      "\n",
      "max weight: [[0.00294725]\n",
      " [0.08098264]\n",
      " [0.02573944]\n",
      " [0.22270233]\n",
      " [0.09573208]\n",
      " [0.09829164]\n",
      " [0.0176236 ]\n",
      " [0.04116807]\n",
      " [0.06553039]\n",
      " [0.34928256]]\n"
     ]
    },
    {
     "data": {
      "image/png": "[encoded data removed]",
      "text/plain": [
       "<Figure size 432x288 with 1 Axes>"
      ]
     },
     "metadata": {
      "needs_background": "light"
     },
     "output_type": "display_data"
    },
    {
     "name": "stdout",
     "output_type": "stream",
     "text": [
      "\n",
      "\n",
      "max weight: [[0.0588364 ]\n",
      " [0.02060387]\n",
      " [0.01246888]\n",
      " [0.00692376]\n",
      " [0.08527943]\n",
      " [0.00146273]\n",
      " [0.08777528]\n",
      " [0.16076059]\n",
      " [0.09044143]\n",
      " [0.47544763]]\n"
     ]
    },
    {
     "data": {
      "image/png": "[encoded data removed]",
      "text/plain": [
       "<Figure size 432x288 with 1 Axes>"
      ]
     },
     "metadata": {
      "needs_background": "light"
     },
     "output_type": "display_data"
    },
    {
     "name": "stdout",
     "output_type": "stream",
     "text": [
      "\n",
      "\n"
     ]
    }
   ],
   "source": [
    "import matplotlib.pyplot as plt \n",
    "import pickle\n",
    "\n",
    "best_weights=[]\n",
    "\n",
    "for iter in range(5):\n",
    "    tst_aucs = []\n",
    "    tst_sens=[]\n",
    "    tst_specs=[]\n",
    "    weights = []\n",
    "    thresholds= []\n",
    "\n",
    "    for i in range(100):\n",
    "        alphas=np.ones(len(audio_categories),np.float32)\n",
    "        s = np.random.dirichlet(alphas,1)\n",
    "        s = s.reshape(-1,1)\n",
    "        w_score = np.matmul(test_score_arr, s)\n",
    "        #print(w_score.shape)\n",
    "        #auc = score(list(test_labels), list(w_score))[0]\n",
    "        auc, _, _, sens,spec,threshold = scoring_v2(list(test_labels), list(w_score))\n",
    "        tst_aucs.append(auc)\n",
    "        tst_sens.append(sens)\n",
    "        tst_specs.append(spec)\n",
    "        weights.append(s)\n",
    "        thresholds.append(threshold)\n",
    "\n",
    "\n",
    "        #print(s)\n",
    "    max_idx = np.array(tst_aucs).argmax()\n",
    "    max_weight = np.array(weights[max_idx])\n",
    "    best_weights.append(max_weight)\n",
    "    print(\"max weight: {}\".format(max_weight))\n",
    "    max_auc=tst_aucs[max_idx]\n",
    "    max_sens=tst_sens[max_idx]\n",
    "    max_spec=tst_specs[max_idx]\n",
    "    max_threshold=thresholds[max_idx]\n",
    "\n",
    "    category_dict={}\n",
    "    for idx, audio_category in enumerate(audio_categories):\n",
    "        category_dict[audio_category]=max_weight[idx].item()\n",
    "\n",
    "    #print(\"max_auc: {}\".format(max_auc)) \n",
    "    #print(\"with weights:\\n {}\".format(category_dict))\n",
    "    #plt.plot(tst_aucs)\n",
    "    #plt.show()\n",
    "\n",
    "    fig = plt.figure()\n",
    "    plt.bar(range(len(category_dict)), list(category_dict.values()))\n",
    "    plt.xticks(range(len(category_dict)), list(category_dict.keys()), rotation=45,horizontalalignment='right')\n",
    "    plt.title('auc:{:.4f},sens:{:.4f},spec:{:.4f}, thres:{:.4f}'.format(max_auc,max_sens,max_spec, max_threshold))\n",
    "    \n",
    "    dir='{}/fusion_combs/val_data/'.format(rootdir)\n",
    "    if not os.path.exists(dir):\n",
    "        os.makedirs(dir)\n",
    "    plt.ylabel('weight')\n",
    "    plt.tight_layout()\n",
    "    plt.savefig(dir + '/c{}.png'.format(iter))\n",
    "    plt.show()\n",
    "\n",
    "    plt.close()\n",
    "    print(\"\\n\")\n",
    "\n",
    "with open('{}/fusion_combs/val_data/best_weights.pkl'.format(rootdir),'wb') as f:\n",
    "   pickle.dump(best_weights, f,protocol=pickle.HIGHEST_PROTOCOL)\n"
   ]
  },
  {
   "cell_type": "markdown",
   "metadata": {},
   "source": [
    "### **New test data**"
   ]
  },
  {
   "cell_type": "code",
   "execution_count": 18,
   "metadata": {},
   "outputs": [
    {
     "name": "stdout",
     "output_type": "stream",
     "text": [
      "['dZvjWWbzA8ZHagEibhMy4sJdd1n2', 'VvbSXSJduhNoeJsgDEYbLaldzdR2', '4KISxr5Elsd5AtONZ380AtOuGbb2']\n",
      "200\n"
     ]
    }
   ],
   "source": [
    "\n",
    "new_test_dir='data'\n",
    "new_test_scorefil='test2_scores.txt'\n",
    "for idx, audio_category in enumerate(audio_categories):\n",
    "    #print(audio_category)\n",
    "    #scores=open(os.path.join(rootdir,audiocategory,'train_scores.txt')).readlines()\n",
    "    df=pd.read_csv(os.path.join(rootdir, audio_category,new_test_scorefil ), sep=\" \", header=None)\n",
    "    keylist=list(df[0])\n",
    "    #print(len(keylist))\n",
    "    if idx==0:\n",
    "        temp=list(set(keylist))\n",
    "    else:\n",
    "        temp=list(set(temp) & set(keylist))\n",
    "    #print(len(temp))\n",
    "    \n",
    "new_common_ids=temp  \n",
    "print(new_common_ids[:3])\n",
    "print(len(new_common_ids))"
   ]
  },
  {
   "cell_type": "code",
   "execution_count": 11,
   "metadata": {},
   "outputs": [],
   "source": [
    "# test_ids=[]\n",
    "\n",
    "# temp_lines=open(os.path.join('results','breathing-deep','new_test_scores.txt'),'r').readlines()\n",
    "\n",
    "# for line in temp_lines:\n",
    "#     key, val=line.strip().split(\" \")\n",
    "#     if key in new_common_ids:\n",
    "#         test_ids.append(key)\n",
    "# print(test_ids[:3])\n",
    "# print(\"len of test ids:\", len(test_ids))"
   ]
  },
  {
   "cell_type": "code",
   "execution_count": 22,
   "metadata": {},
   "outputs": [
    {
     "name": "stdout",
     "output_type": "stream",
     "text": [
      "[0.0, 1.0, 0.0, 0.0, 0.0, 0.0, 0.0, 1.0, 0.0, 0.0]\n",
      "200\n"
     ]
    }
   ],
   "source": [
    "new_test_lines=open('{}/test2'.format(new_test_dir),'r').readlines()\n",
    "#test_lines.sort()\n",
    "new_test_labels_dict={}\n",
    "new_test_labels=[]\n",
    "\n",
    "for line in new_test_lines:\n",
    "    key, val = line.strip().split(\" \")\n",
    "    if val=='p':\n",
    "        val=1\n",
    "    elif val=='n':\n",
    "        val=0\n",
    "    else:\n",
    "        raise ValueError(\" Not a valid label.\")\n",
    "    if key in new_common_ids:\n",
    "        new_test_labels_dict[key]=val\n",
    "        \n",
    "new_test_labels=[float(new_test_labels_dict[id]) for id in new_common_ids]\n",
    "print(new_test_labels[-10:])\n",
    "print(len(new_test_labels))"
   ]
  },
  {
   "cell_type": "code",
   "execution_count": 23,
   "metadata": {},
   "outputs": [
    {
     "name": "stdout",
     "output_type": "stream",
     "text": [
      "breathing-deep--AUC: 0.7954, Sens: 0.3600, Spec: 0.9533\n",
      "breathing-shallow--AUC: 0.8345, Sens: 0.2800, Spec: 0.9533\n",
      "cough-heavy--AUC: 0.8107, Sens: 0.2200, Spec: 0.9533\n",
      "cough-shallow--AUC: 0.7915, Sens: 0.2800, Spec: 0.9533\n",
      "vowel-a--AUC: 0.7914, Sens: 0.3600, Spec: 0.9533\n",
      "vowel-e--AUC: 0.7846, Sens: 0.3400, Spec: 0.9533\n",
      "vowel-o--AUC: 0.7774, Sens: 0.2600, Spec: 0.9533\n",
      "counting-normal--AUC: 0.8315, Sens: 0.4200, Spec: 0.9533\n",
      "counting-fast--AUC: 0.8391, Sens: 0.4200, Spec: 0.9533\n",
      "symptoms--AUC: 0.8881, Sens: 0.3600, Spec: 0.9600\n",
      "(200, 10)\n",
      "[[0.14639716 0.26531562 0.09342427 ... 0.29047933 0.44145132 0.19674129]\n",
      " [0.40667854 0.25446009 0.70424599 ... 0.24201713 0.13190469 1.        ]\n",
      " [0.27527809 0.48684425 0.20736158 ... 0.37082232 0.61588445 0.98797664]\n",
      " ...\n",
      " [0.81756447 0.88189725 0.94711756 ... 0.93177655 0.71628974 0.98797664]\n",
      " [0.00618863 0.02463999 0.01220168 ... 0.01815852 0.02638985 0.19674129]\n",
      " [0.00194356 0.18430683 0.17395432 ... 0.09769474 0.0108908  0.19674129]]\n"
     ]
    }
   ],
   "source": [
    "for idx, audio_category in enumerate(audio_categories):\n",
    "    new_dict={}\n",
    "    new_test_scores=[]\n",
    "    new_test_score_lines=open(os.path.join(rootdir, audio_category, new_test_scorefil),'r').readlines()\n",
    "    #test_score_lines.sort()\n",
    "    \n",
    "    for line in new_test_score_lines:\n",
    "        key, val=line.strip().split(\" \")\n",
    "        if key in new_common_ids:\n",
    "            new_dict[key]=val\n",
    "    assert sorted(list(new_dict.keys()))==sorted(new_common_ids)\n",
    "        #test_scores.append(float(val))\n",
    "\n",
    "    new_test_scores=[float(new_dict[key]) for key in new_common_ids]\n",
    "   \n",
    "    new_test_scores=np.array(new_test_scores)\n",
    "    \n",
    "    new_test_scores=new_test_scores.reshape(-1,1)\n",
    "\n",
    "    auc, _,_,sens,spec,_=scoring_v2(list(new_test_labels), list(new_test_scores))\n",
    "    print(\"{}--AUC: {:.4f}, Sens: {:.4f}, Spec: {:.4f}\".format(audio_category, auc, sens, spec))\n",
    "\n",
    "    if idx==0:\n",
    "        new_test_score_arr=new_test_scores\n",
    "        #print(score_arr)\n",
    "    else:\n",
    "        new_test_score_arr=np.concatenate((new_test_score_arr, new_test_scores), axis=1)\n",
    "    #print(score_arr)\n",
    "    #print(len(scores))\n",
    "    #print(test_score_arr.shape)\n",
    "    #break\n",
    "print(new_test_score_arr.shape)\n",
    "print(new_test_score_arr)"
   ]
  },
  {
   "cell_type": "code",
   "execution_count": null,
   "metadata": {},
   "outputs": [],
   "source": []
  },
  {
   "cell_type": "code",
   "execution_count": 24,
   "metadata": {},
   "outputs": [
    {
     "name": "stdout",
     "output_type": "stream",
     "text": [
      "fusion--AUC: 0.8968, Sens: 0.5800, Spec: 0.9533 at thres:0.5475\n"
     ]
    }
   ],
   "source": [
    "from local.scoring import score\n",
    "new_baseline_test_score=np.mean(new_test_score_arr, axis=1)\n",
    "auc, _,_,sens,spec,thres=scoring_v2(list(new_test_labels), list(new_baseline_test_score))\n",
    "#scoring_v2(list(test_labels), list(test_score_arr[:,9]))\n",
    "print(\"fusion--AUC: {:.4f}, Sens: {:.4f}, Spec: {:.4f} at thres:{:.4f}\".format(auc, sens, spec,thres))"
   ]
  },
  {
   "cell_type": "code",
   "execution_count": 15,
   "metadata": {},
   "outputs": [
    {
     "data": {
      "text/plain": [
       "(10, 1)"
      ]
     },
     "execution_count": 15,
     "metadata": {},
     "output_type": "execute_result"
    }
   ],
   "source": [
    "s = np.array(best_weights[0]).reshape(-1,1)\n",
    "s.shape"
   ]
  },
  {
   "cell_type": "code",
   "execution_count": null,
   "metadata": {},
   "outputs": [],
   "source": []
  },
  {
   "cell_type": "code",
   "execution_count": 25,
   "metadata": {},
   "outputs": [
    {
     "name": "stdout",
     "output_type": "stream",
     "text": [
      "AUC: 0.9327, Sens: 0.5000, Spec: 0.9533 at threshold: 0.6824\n",
      "AUC: 0.9337, Sens: 0.5600, Spec: 0.9533 at threshold: 0.6588\n",
      "AUC: 0.9296, Sens: 0.5000, Spec: 0.9533 at threshold: 0.6659\n",
      "AUC: 0.9253, Sens: 0.5800, Spec: 0.9533 at threshold: 0.6220\n",
      "AUC: 0.9307, Sens: 0.5800, Spec: 0.9533 at threshold: 0.6635\n"
     ]
    }
   ],
   "source": [
    "for i in range(5):\n",
    "    s = np.array(best_weights[i]).reshape(-1,1)\n",
    "    #s = np.array([0,0,0,0,0,0,0,0,0,1]).reshape(-1,1)\n",
    "    w_score = np.matmul(new_test_score_arr, s)\n",
    "    auc, _, _, sens,spec, thres = scoring_v2(list(new_test_labels), list(w_score))\n",
    "    print(\"AUC: {:.4f}, Sens: {:.4f}, Spec: {:.4f} at threshold: {:.4f}\".format(auc, sens, spec, thres))"
   ]
  },
  {
   "cell_type": "code",
   "execution_count": 17,
   "metadata": {},
   "outputs": [
    {
     "data": {
      "text/plain": [
       "(5, 10, 1)"
      ]
     },
     "execution_count": 17,
     "metadata": {},
     "output_type": "execute_result"
    }
   ],
   "source": [
    "np.array(best_weights).shape"
   ]
  },
  {
   "cell_type": "code",
   "execution_count": 9,
   "metadata": {},
   "outputs": [],
   "source": [
    "# import scipy.io as sio \n",
    "# #sio.savemat('results/fusion_combs/test_data/best_weights_arr.mat',mdict={'data':np.array(best_weights)})\n",
    "# sio.loadmat('results/fusion_combs/test_data/best_weights_arr.mat')['data']"
   ]
  },
  {
   "cell_type": "code",
   "execution_count": null,
   "metadata": {},
   "outputs": [
    {
     "data": {
      "text/plain": [
       "'\\navg_top_weight=np.ones(len(audio_categories),np.float32)\\n\\n\\nfor iter in range(5):\\n    tst_aucs = []\\n    tst_sens=[]\\n    tst_specs=[]\\n    weights = []\\n    alphas=avg_top_weight.ravel()\\n    print(\"alphas: {}\".format(alphas))\\n    if sum(alphas>0) != len(alphas):print(\"alpha becomes zero; aborting..\"); break\\n\\n    for i in range(1000):\\n\\n        #valid_catgs = test_score_arr[(alphas>0)]\\n        #alphas=alphas[alphas>0]\\n\\n        s = np.random.dirichlet(alphas,1)\\n        s = s.reshape(-1,1)\\n        \\n        #print(s.shape)\\n        w_score = np.matmul(test_score_arr, s)\\n        #w_score = np.matmul(valid_catgs, s)\\n        #print(w_score.shape)\\n        auc, _, _, sens,spec = scoring_v2(list(test_labels), list(w_score))\\n        tst_aucs.append(auc)\\n        tst_sens.append(sens)\\n        tst_specs.append(spec)\\n        weights.append(s)\\n\\n\\n    \\n    # MAX VALUES\\n    max_idx=np.array(tst_aucs).argmax()\\n    max_weight = np.array(weights[max_idx])\\n    print(\"max weight: {}\".format(max_weight))\\n    max_auc=tst_aucs[max_idx]\\n    max_sens=tst_sens[max_idx]\\n    max_spec=tst_specs[max_idx]\\n\\n    # TOP VALUES\\n    top_idxs = np.array(tst_aucs).argsort()[-10:]\\n    #print(max_idxs)\\n\\n    top_weights = np.array(weights)[top_idxs]\\n    avg_top_weight=np.mean(top_weights,axis=0)\\n    #print(avg_top_weight)\\n\\n    top_aucs=np.array(tst_aucs)[top_idxs]\\n\\n\\n\\n    #break\\n\\n    category_dict={}\\n    #valid_categories=np.array(audio_categories)[alphas>0]\\n    #for idx, audio_category in enumerate(valid_categories):\\n    for idx, audio_category in enumerate(audio_categories):\\n        category_dict[audio_category]=max_weight[idx].item()\\n\\n    fig = plt.figure()\\n    plt.bar(range(len(category_dict)), list(category_dict.values()))\\n    plt.xticks(range(len(category_dict)), list(category_dict.keys()), rotation=45,horizontalalignment=\\'right\\')\\n    plt.title(\\'auc:{:.4f},sens:{:.4f},spec:{:.4f}\\'.format(max_auc,max_sens,max_spec))\\n    \\n    dir=\\'fusion_combs/MLP2LAYER/new_test_data/iterative/\\'\\n    if not os.path.exists(dir):\\n        os.makedirs(dir)\\n    plt.ylabel(\\'weight\\')\\n    plt.tight_layout()\\n    plt.savefig(dir + \\'/c{}.png\\'.format(iter))\\n    \\n    plt.show()\\n\\n    plt.close()\\n    print(\"\\n\") \\n'"
      ]
     },
     "execution_count": 34,
     "metadata": {},
     "output_type": "execute_result"
    }
   ],
   "source": [
    "\"\"\"\n",
    "avg_top_weight=np.ones(len(audio_categories),np.float32)\n",
    "\n",
    "\n",
    "for iter in range(5):\n",
    "    tst_aucs = []\n",
    "    tst_sens=[]\n",
    "    tst_specs=[]\n",
    "    weights = []\n",
    "    alphas=avg_top_weight.ravel()\n",
    "    print(\"alphas: {}\".format(alphas))\n",
    "    if sum(alphas>0) != len(alphas):print(\"alpha becomes zero; aborting..\"); break\n",
    "\n",
    "    for i in range(1000):\n",
    "\n",
    "        #valid_catgs = test_score_arr[(alphas>0)]\n",
    "        #alphas=alphas[alphas>0]\n",
    "\n",
    "        s = np.random.dirichlet(alphas,1)\n",
    "        s = s.reshape(-1,1)\n",
    "        \n",
    "        #print(s.shape)\n",
    "        w_score = np.matmul(test_score_arr, s)\n",
    "        #w_score = np.matmul(valid_catgs, s)\n",
    "        #print(w_score.shape)\n",
    "        auc, _, _, sens,spec = scoring_v2(list(test_labels), list(w_score))\n",
    "        tst_aucs.append(auc)\n",
    "        tst_sens.append(sens)\n",
    "        tst_specs.append(spec)\n",
    "        weights.append(s)\n",
    "\n",
    "\n",
    "    \n",
    "    # MAX VALUES\n",
    "    max_idx=np.array(tst_aucs).argmax()\n",
    "    max_weight = np.array(weights[max_idx])\n",
    "    print(\"max weight: {}\".format(max_weight))\n",
    "    max_auc=tst_aucs[max_idx]\n",
    "    max_sens=tst_sens[max_idx]\n",
    "    max_spec=tst_specs[max_idx]\n",
    "\n",
    "    # TOP VALUES\n",
    "    top_idxs = np.array(tst_aucs).argsort()[-10:]\n",
    "    #print(max_idxs)\n",
    "\n",
    "    top_weights = np.array(weights)[top_idxs]\n",
    "    avg_top_weight=np.mean(top_weights,axis=0)\n",
    "    #print(avg_top_weight)\n",
    "\n",
    "    top_aucs=np.array(tst_aucs)[top_idxs]\n",
    "\n",
    "\n",
    "\n",
    "    #break\n",
    "\n",
    "    category_dict={}\n",
    "    #valid_categories=np.array(audio_categories)[alphas>0]\n",
    "    #for idx, audio_category in enumerate(valid_categories):\n",
    "    for idx, audio_category in enumerate(audio_categories):\n",
    "        category_dict[audio_category]=max_weight[idx].item()\n",
    "\n",
    "    fig = plt.figure()\n",
    "    plt.bar(range(len(category_dict)), list(category_dict.values()))\n",
    "    plt.xticks(range(len(category_dict)), list(category_dict.keys()), rotation=45,horizontalalignment='right')\n",
    "    plt.title('auc:{:.4f},sens:{:.4f},spec:{:.4f}'.format(max_auc,max_sens,max_spec))\n",
    "    \n",
    "    dir='fusion_combs/MLP2LAYER/new_test_data/iterative/'\n",
    "    if not os.path.exists(dir):\n",
    "        os.makedirs(dir)\n",
    "    plt.ylabel('weight')\n",
    "    plt.tight_layout()\n",
    "    plt.savefig(dir + '/c{}.png'.format(iter))\n",
    "    \n",
    "    plt.show()\n",
    "\n",
    "    plt.close()\n",
    "    print(\"\\n\") \n",
    "\"\"\"      "
   ]
  },
  {
   "cell_type": "markdown",
   "metadata": {},
   "source": []
  },
  {
   "cell_type": "code",
   "execution_count": null,
   "metadata": {},
   "outputs": [],
   "source": []
  },
  {
   "cell_type": "code",
   "execution_count": null,
   "metadata": {},
   "outputs": [],
   "source": []
  },
  {
   "cell_type": "code",
   "execution_count": null,
   "metadata": {},
   "outputs": [],
   "source": []
  }
 ],
 "metadata": {
  "interpreter": {
   "hash": "91d8ac8ac98a00daee01b170ecc4de38a4b78e57473b1984dedfa9b67acb5aae"
  },
  "kernelspec": {
   "display_name": "Python 3.8.3 64-bit ('base': conda)",
   "language": "python",
   "name": "python3"
  },
  "language_info": {
   "codemirror_mode": {
    "name": "ipython",
    "version": 3
   },
   "file_extension": ".py",
   "mimetype": "text/x-python",
   "name": "python",
   "nbconvert_exporter": "python",
   "pygments_lexer": "ipython3",
   "version": "3.8.3"
  },
  "orig_nbformat": 4
 },
 "nbformat": 4,
 "nbformat_minor": 2
}
